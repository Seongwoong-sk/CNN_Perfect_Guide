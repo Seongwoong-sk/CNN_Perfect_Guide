version https://git-lfs.github.com/spec/v1
oid sha256:409c5058626f0c22ca7ce986a179244b29e3ec97ae705c231bfa1b7c1058e64f
size 1247836
