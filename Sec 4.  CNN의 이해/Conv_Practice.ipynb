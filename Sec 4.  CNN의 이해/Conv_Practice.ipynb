version https://git-lfs.github.com/spec/v1
oid sha256:2948b92aab66da2b2322bacf3f13acae50f7707b57bcc916af0dc1dbc7d01f28
size 128975
