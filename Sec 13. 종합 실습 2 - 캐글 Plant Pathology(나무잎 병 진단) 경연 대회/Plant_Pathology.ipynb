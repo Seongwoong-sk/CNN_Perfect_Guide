version https://git-lfs.github.com/spec/v1
oid sha256:adb330aeca7871a253f49af7b7d8751a233282254acc750a0860a793d31112a2
size 3478096
