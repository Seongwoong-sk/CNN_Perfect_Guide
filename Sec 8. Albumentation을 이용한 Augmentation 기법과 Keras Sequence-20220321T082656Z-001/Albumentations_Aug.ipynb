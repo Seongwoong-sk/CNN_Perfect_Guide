version https://git-lfs.github.com/spec/v1
oid sha256:588542f5bea91386c7f07ad090b528b6184a163d9a5534ef39cfa147f01b2552
size 10106115
