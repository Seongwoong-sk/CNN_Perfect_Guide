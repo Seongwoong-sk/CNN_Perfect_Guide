version https://git-lfs.github.com/spec/v1
oid sha256:cb3631c3c3c324c40734bd00c4bd1b87be162ce984da34ca21be3f3a66c2c792
size 6255054
