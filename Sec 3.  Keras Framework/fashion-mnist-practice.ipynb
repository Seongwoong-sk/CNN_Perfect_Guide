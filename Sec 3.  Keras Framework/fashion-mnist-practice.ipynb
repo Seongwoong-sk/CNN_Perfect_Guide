version https://git-lfs.github.com/spec/v1
oid sha256:be6a60569219a7b21da3114a0523e0b71d6f95f3f3b7e681d5545e52350367a6
size 195973
