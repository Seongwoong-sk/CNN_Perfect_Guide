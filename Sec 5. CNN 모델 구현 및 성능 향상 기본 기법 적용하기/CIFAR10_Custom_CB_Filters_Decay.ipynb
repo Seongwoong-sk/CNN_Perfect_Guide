version https://git-lfs.github.com/spec/v1
oid sha256:cb74aa3b3122014fd188ff10d71dff34436b9e00cae6342c9f1e20f38cd654d9
size 181827
