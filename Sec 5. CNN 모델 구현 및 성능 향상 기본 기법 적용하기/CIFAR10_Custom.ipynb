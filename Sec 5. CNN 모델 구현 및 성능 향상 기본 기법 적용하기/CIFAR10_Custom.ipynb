version https://git-lfs.github.com/spec/v1
oid sha256:a27912046ae6538a94ddfc5efbc9abe20e93a6ed429bc8ab23da1f5edb69e44f
size 538567
