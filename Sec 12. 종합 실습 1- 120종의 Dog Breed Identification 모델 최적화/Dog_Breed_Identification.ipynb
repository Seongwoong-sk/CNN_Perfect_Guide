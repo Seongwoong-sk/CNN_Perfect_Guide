version https://git-lfs.github.com/spec/v1
oid sha256:539ea71fbc857530e5675783d301b7f0c09fcf1de1132acd167fb6dce5d51655
size 4548689
