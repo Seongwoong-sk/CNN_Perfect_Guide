version https://git-lfs.github.com/spec/v1
oid sha256:9cd31417294ba2ad7e5e48a65e1d7c93159f7581d83b0099a1ebdd0f84cce0a9
size 3673593
